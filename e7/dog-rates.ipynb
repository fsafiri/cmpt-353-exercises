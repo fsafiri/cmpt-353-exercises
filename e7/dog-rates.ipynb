{
 "cells": [
  {
   "cell_type": "code",
   "execution_count": null,
   "id": "2eb636d3-20cf-44cb-bde5-b8d9f785c9ea",
   "metadata": {},
   "outputs": [],
   "source": [
    "import pandas as pd\n",
    "import numpy as np\n",
    "import re\n",
    "import matplotlib.pyplot as plt\n",
    "import scipy\n",
    "from scipy import stats"
   ]
  },
  {
   "cell_type": "code",
   "execution_count": null,
   "id": "58a17117-74fb-44fc-a382-2648aaba3967",
   "metadata": {},
   "outputs": [],
   "source": [
    "data=pd.read_csv('dog_rates_tweets.csv')\n",
    "data['created_at'] = pd.to_datetime(data['created_at'], format='%Y-%m-%d %H:%M:%S').copy()"
   ]
  },
  {
   "cell_type": "code",
   "execution_count": null,
   "id": "923a15bd-8e72-4a41-9da1-3b16254953ea",
   "metadata": {},
   "outputs": [],
   "source": [
    "def get_rating(d):\n",
    "    match = re.search(r'(\\d+(\\.\\d+)?)/10', d)\n",
    "    \n",
    "    if match and float(match.group(1)) <= 25:\n",
    "        return float(match.group(1))\n",
    "    else:\n",
    "        return None"
   ]
  },
  {
   "cell_type": "code",
   "execution_count": null,
   "id": "e8186951-a7b2-4e6f-8c3e-4433317378e8",
   "metadata": {},
   "outputs": [],
   "source": [
    "data['rating'] = data['text'].apply(get_rating).copy()\n",
    "data = data[data['rating'] > 0].copy()"
   ]
  },
  {
   "cell_type": "code",
   "execution_count": null,
   "id": "fa5ce794-819f-47b7-b52a-fb40dbce2ecc",
   "metadata": {},
   "outputs": [],
   "source": [
    "# Create a scatter plot of date vs. rating\n",
    "plt.scatter(data['created_at'], data['rating'])\n",
    "plt.xticks(rotation=25)\n",
    "plt.show()"
   ]
  },
  {
   "cell_type": "code",
   "execution_count": null,
   "id": "cd121ff5-a346-40d3-b09c-28a60f845e80",
   "metadata": {},
   "outputs": [],
   "source": [
    "def to_timestamp(d):\n",
    "    timestamp = d.timestamp()\n",
    "    return timestamp"
   ]
  },
  {
   "cell_type": "code",
   "execution_count": null,
   "id": "d81638f4-6ce4-402a-8dc1-039167be2d43",
   "metadata": {},
   "outputs": [],
   "source": [
    "data['timestamp'] = data['created_at'].apply(to_timestamp).copy()"
   ]
  },
  {
   "cell_type": "code",
   "execution_count": null,
   "id": "66d49f68-dc1e-437c-8a8e-7e737e5f4c29",
   "metadata": {},
   "outputs": [],
   "source": [
    "fit = stats.linregress(data['timestamp'], data['rating'])"
   ]
  },
  {
   "cell_type": "code",
   "execution_count": null,
   "id": "a79b1710-5de2-46d4-87e6-1b4003f7f217",
   "metadata": {},
   "outputs": [],
   "source": [
    "data['prediction'] = fit.slope * data['timestamp'] + fit.intercept"
   ]
  },
  {
   "cell_type": "code",
   "execution_count": null,
   "id": "349d91b1-7a10-4310-927a-44ff356f4622",
   "metadata": {},
   "outputs": [],
   "source": [
    "plt.xticks(rotation=25)\n",
    "plt.plot(data['created_at'], data['rating'], 'b.', alpha=0.5)\n",
    "plt.plot(data['created_at'], data['prediction'], 'r-', linewidth=3)"
   ]
  },
  {
   "cell_type": "code",
   "execution_count": null,
   "id": "c0fad5d2-f5cb-46b9-b199-71ae048a44ab",
   "metadata": {},
   "outputs": [],
   "source": [
    "fit.pvalue, fit.slope, fit.intercept"
   ]
  },
  {
   "cell_type": "code",
   "execution_count": null,
   "id": "39825013-7ffa-4704-a336-b426bcb019e5",
   "metadata": {},
   "outputs": [],
   "source": [
    "#residuals\n",
    "data['residuals'] = data['rating'] - data['prediction']"
   ]
  },
  {
   "cell_type": "code",
   "execution_count": null,
   "id": "5369546c-fc1e-4a41-beef-4a61d0a8262b",
   "metadata": {},
   "outputs": [],
   "source": [
    "plt.figure()\n",
    "plt.hist(data['residuals'], bins=30, edgecolor='k')\n",
    "plt.title('histogram for residuals')\n",
    "plt.xlabel('residuals')"
   ]
  },
  {
   "cell_type": "code",
   "execution_count": null,
   "id": "b46d9612-9f04-425e-80be-411432e65901",
   "metadata": {},
   "outputs": [],
   "source": [
    "print(f\"slope: {fit.slope}\")\n",
    "print(f\"intercept: {fit.intercept}\")\n",
    "print(f\"pval: {fit.pvalue}\")"
   ]
  }
 ],
 "metadata": {
  "kernelspec": {
   "display_name": "Python 3 (ipykernel)",
   "language": "python",
   "name": "python3"
  },
  "language_info": {
   "codemirror_mode": {
    "name": "ipython",
    "version": 3
   },
   "file_extension": ".py",
   "mimetype": "text/x-python",
   "name": "python",
   "nbconvert_exporter": "python",
   "pygments_lexer": "ipython3",
   "version": "3.11.5"
  }
 },
 "nbformat": 4,
 "nbformat_minor": 5
}
