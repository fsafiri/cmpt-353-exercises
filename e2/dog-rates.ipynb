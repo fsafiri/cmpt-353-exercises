{
 "cells": [
  {
   "cell_type": "code",
   "execution_count": null,
   "id": "b1f36ed0-da9f-44b7-a880-4fa8d43924d1",
   "metadata": {},
   "outputs": [],
   "source": [
    "import pandas as pd\n",
    "import numpy as np\n",
    "import re\n",
    "import matplotlib.pyplot as plt\n",
    "import scipy\n",
    "from scipy import stats"
   ]
  },
  {
   "cell_type": "code",
   "execution_count": null,
   "id": "61c1b21b-610a-44a7-8fb6-c7a02e580625",
   "metadata": {},
   "outputs": [],
   "source": [
    "data=pd.read_csv(\"dog_rates_tweets.csv\")\n",
    "\n",
    "data['created_at'] = pd.to_datetime(data['created_at'], format='%Y-%m-%d %H:%M:%S')"
   ]
  },
  {
   "cell_type": "code",
   "execution_count": null,
   "id": "741232d9-13f2-471b-b510-58552269d20e",
   "metadata": {},
   "outputs": [],
   "source": [
    "def get_rating(d):\n",
    "    match = re.search(r'(\\d+(\\.\\d+)?)/10', d)\n",
    "    #https://docs.python.org/3/library/re.html#match-objects\n",
    "    if match and float((match.group(1)))<25 :\n",
    "        return float(match.group(1))\n",
    "    else:\n",
    "       return None "
   ]
  },
  {
   "cell_type": "code",
   "execution_count": null,
   "id": "8d995c9a-58b3-4e06-a5b4-f4ffa288c6b2",
   "metadata": {},
   "outputs": [],
   "source": [
    "data['rating']=data['text'].apply(get_rating)"
   ]
  },
  {
   "cell_type": "code",
   "execution_count": null,
   "id": "eaae92c1-d15d-44bd-9d46-1b4f8ef8232b",
   "metadata": {},
   "outputs": [],
   "source": [
    "data=data[data['rating'] > 0]"
   ]
  },
  {
   "cell_type": "code",
   "execution_count": null,
   "id": "def5e4b6-d02e-4177-8efe-33654da23b97",
   "metadata": {},
   "outputs": [],
   "source": [
    "#create a scatter plot of date vs rating, so you can see what the data looks like.\n",
    "plt.scatter(data['created_at'],data['rating'])\n",
    "plt.xticks(rotation=25)\n",
    "plt.show()"
   ]
  },
  {
   "cell_type": "code",
   "execution_count": null,
   "id": "18c9dfdb-ce6d-4c29-9354-fb99c6df5354",
   "metadata": {},
   "outputs": [],
   "source": [
    "def to_timestamp(d):\n",
    "    timestamp=d.timestamp()\n",
    "    return timestamp"
   ]
  },
  {
   "cell_type": "code",
   "execution_count": null,
   "id": "8038eb34-bce7-48f5-abf3-cbc5aa0f3b32",
   "metadata": {},
   "outputs": [],
   "source": [
    "data['timestamp']=data['created_at'].apply(to_timestamp)"
   ]
  },
  {
   "cell_type": "code",
   "execution_count": null,
   "id": "c8ff496a-4fd0-4759-b7c2-054dea75be4f",
   "metadata": {},
   "outputs": [],
   "source": [
    "fit = stats.linregress(data['timestamp'], data['rating'])"
   ]
  },
  {
   "cell_type": "code",
   "execution_count": null,
   "id": "943d23e5-2c2f-4898-b833-215cdf86e65a",
   "metadata": {},
   "outputs": [],
   "source": [
    "data['prediction'] = fit.intercept + fit.slope * data['timestamp']"
   ]
  },
  {
   "cell_type": "code",
   "execution_count": null,
   "id": "e8ef8614-905c-49a5-86e7-0a863fbf8bd5",
   "metadata": {},
   "outputs": [],
   "source": [
    "fit.slope, fit.intercept"
   ]
  },
  {
   "cell_type": "code",
   "execution_count": null,
   "id": "1bf4d76e-6080-4c4c-84bf-87fc6ec52397",
   "metadata": {},
   "outputs": [],
   "source": [
    "plt.xticks(rotation=25)\n",
    "plt.plot(data['created_at'],data['rating'],'b.', alpha=0.5)\n",
    "plt.plot(data['created_at'],data['timestamp']*fit.slope + fit.intercept,'r-', linewidth=3 )"
   ]
  },
  {
   "cell_type": "code",
   "execution_count": null,
   "id": "ac90e435-b83d-4fc6-b44e-ecaba41d1258",
   "metadata": {},
   "outputs": [],
   "source": [
    "f=data['timestamp']*fit.slope + fit.intercept\n",
    "f.dtype"
   ]
  }
 ],
 "metadata": {
  "kernelspec": {
   "display_name": "Python 3 (ipykernel)",
   "language": "python",
   "name": "python3"
  },
  "language_info": {
   "codemirror_mode": {
    "name": "ipython",
    "version": 3
   },
   "file_extension": ".py",
   "mimetype": "text/x-python",
   "name": "python",
   "nbconvert_exporter": "python",
   "pygments_lexer": "ipython3",
   "version": "3.11.5"
  }
 },
 "nbformat": 4,
 "nbformat_minor": 5
}
